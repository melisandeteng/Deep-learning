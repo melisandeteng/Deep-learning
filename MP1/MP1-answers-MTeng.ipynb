{
 "cells": [
  {
   "cell_type": "code",
   "execution_count": 1,
   "metadata": {
    "collapsed": false
   },
   "outputs": [
    {
     "name": "stderr",
     "output_type": "stream",
     "text": [
      "Using TensorFlow backend.\n"
     ]
    }
   ],
   "source": [
    "from mp1 import *\n",
    "import matplotlib.pyplot as plt\n",
    "%matplotlib inline\n",
    "import numpy as np\n",
    "from keras.utils import np_utils\n",
    "from keras.models import Sequential\n",
    "from keras.layers import Dense, Activation, Conv2D, Flatten, Dropout, MaxPooling2D"
   ]
  },
  {
   "cell_type": "markdown",
   "metadata": {},
   "source": [
    "#Simple classification\n",
    "\n",
    "For this first simple network, we want to linearly classify an image into shape categories (rectangle, disk, triangle). \n",
    "Thus, we will use a 1-layer neural network for this task. "
   ]
  },
  {
   "cell_type": "code",
   "execution_count": 2,
   "metadata": {
    "collapsed": false
   },
   "outputs": [
    {
     "name": "stdout",
     "output_type": "stream",
     "text": [
      "Creating data:\n",
      "0\n",
      "10\n",
      "20\n",
      "30\n",
      "40\n",
      "50\n",
      "60\n",
      "70\n",
      "80\n",
      "90\n",
      "100\n",
      "110\n",
      "120\n",
      "130\n",
      "140\n",
      "150\n",
      "160\n",
      "170\n",
      "180\n",
      "190\n",
      "200\n",
      "210\n",
      "220\n",
      "230\n",
      "240\n",
      "250\n",
      "260\n",
      "270\n",
      "280\n",
      "290\n"
     ]
    }
   ],
   "source": [
    "[X_train, Y_train] = generate_dataset_classification(300, 20)\n",
    "Y_train = np_utils.to_categorical(Y_train, 3)"
   ]
  },
  {
   "cell_type": "code",
   "execution_count": 3,
   "metadata": {
    "collapsed": false
   },
   "outputs": [
    {
     "name": "stdout",
     "output_type": "stream",
     "text": [
      "(300, 10000)\n"
     ]
    }
   ],
   "source": [
    "print(X_train.shape)"
   ]
  },
  {
   "cell_type": "code",
   "execution_count": 4,
   "metadata": {
    "collapsed": false
   },
   "outputs": [
    {
     "name": "stdout",
     "output_type": "stream",
     "text": [
      "Epoch 1/15\n",
      "300/300 [==============================] - 0s 1ms/step - loss: 10.1215\n",
      "Epoch 2/15\n",
      "300/300 [==============================] - 0s 232us/step - loss: 10.9066\n",
      "Epoch 3/15\n",
      "300/300 [==============================] - 0s 225us/step - loss: 10.9066\n",
      "Epoch 4/15\n",
      "300/300 [==============================] - 0s 226us/step - loss: 10.9066\n",
      "Epoch 5/15\n",
      "300/300 [==============================] - 0s 213us/step - loss: 10.9066\n",
      "Epoch 6/15\n",
      "300/300 [==============================] - 0s 282us/step - loss: 10.9066\n",
      "Epoch 7/15\n",
      "300/300 [==============================] - 0s 244us/step - loss: 10.9066\n",
      "Epoch 8/15\n",
      "300/300 [==============================] - 0s 245us/step - loss: 10.9066\n",
      "Epoch 9/15\n",
      "300/300 [==============================] - 0s 255us/step - loss: 10.9066\n",
      "Epoch 10/15\n",
      "300/300 [==============================] - 0s 185us/step - loss: 10.9066\n",
      "Epoch 11/15\n",
      "300/300 [==============================] - 0s 261us/step - loss: 10.9066\n",
      "Epoch 12/15\n",
      "300/300 [==============================] - 0s 208us/step - loss: 10.9066\n",
      "Epoch 13/15\n",
      "300/300 [==============================] - 0s 257us/step - loss: 10.9066\n",
      "Epoch 14/15\n",
      "300/300 [==============================] - 0s 238us/step - loss: 10.9066\n",
      "Epoch 15/15\n",
      "300/300 [==============================] - 0s 220us/step - loss: 10.9066\n"
     ]
    },
    {
     "data": {
      "text/plain": [
       "<keras.callbacks.History at 0x21cb66cfa20>"
      ]
     },
     "execution_count": 4,
     "metadata": {},
     "output_type": "execute_result"
    }
   ],
   "source": [
    "model = Sequential()\n",
    "model.add(Dense(3,  input_dim = 10000, activation='softmax'))\n",
    "model.compile(loss='categorical_crossentropy',optimizer=\"SGD\")\n",
    "model.fit(X_train, Y_train, epochs=15, batch_size=32)"
   ]
  },
  {
   "cell_type": "code",
   "execution_count": 5,
   "metadata": {
    "collapsed": false
   },
   "outputs": [
    {
     "name": "stdout",
     "output_type": "stream",
     "text": [
      "Epoch 1/30\n",
      "300/300 [==============================] - 1s 4ms/step - loss: 5.7348\n",
      "Epoch 2/30\n",
      "300/300 [==============================] - 0s 245us/step - loss: 2.3896\n",
      "Epoch 3/30\n",
      "300/300 [==============================] - 0s 247us/step - loss: 1.2372\n",
      "Epoch 4/30\n",
      "300/300 [==============================] - 0s 240us/step - loss: 0.6816\n",
      "Epoch 5/30\n",
      "300/300 [==============================] - 0s 229us/step - loss: 0.2626\n",
      "Epoch 6/30\n",
      "300/300 [==============================] - 0s 242us/step - loss: 0.2056\n",
      "Epoch 7/30\n",
      "300/300 [==============================] - 0s 237us/step - loss: 0.1843\n",
      "Epoch 8/30\n",
      "300/300 [==============================] - 0s 234us/step - loss: 0.1470\n",
      "Epoch 9/30\n",
      "300/300 [==============================] - 0s 226us/step - loss: 0.1220\n",
      "Epoch 10/30\n",
      "300/300 [==============================] - 0s 229us/step - loss: 0.1088\n",
      "Epoch 11/30\n",
      "300/300 [==============================] - 0s 234us/step - loss: 0.1175\n",
      "Epoch 12/30\n",
      "300/300 [==============================] - 0s 236us/step - loss: 0.0921\n",
      "Epoch 13/30\n",
      "300/300 [==============================] - 0s 225us/step - loss: 0.0785\n",
      "Epoch 14/30\n",
      "300/300 [==============================] - 0s 236us/step - loss: 0.0706\n",
      "Epoch 15/30\n",
      "300/300 [==============================] - 0s 179us/step - loss: 0.0644\n",
      "Epoch 16/30\n",
      "300/300 [==============================] - 0s 289us/step - loss: 0.0579\n",
      "Epoch 17/30\n",
      "300/300 [==============================] - 0s 231us/step - loss: 0.0594\n",
      "Epoch 18/30\n",
      "300/300 [==============================] - 0s 235us/step - loss: 0.0540\n",
      "Epoch 19/30\n",
      "300/300 [==============================] - 0s 236us/step - loss: 0.0462\n",
      "Epoch 20/30\n",
      "300/300 [==============================] - 0s 240us/step - loss: 0.0452\n",
      "Epoch 21/30\n",
      "300/300 [==============================] - 0s 226us/step - loss: 0.0480\n",
      "Epoch 22/30\n",
      "300/300 [==============================] - 0s 233us/step - loss: 0.0449\n",
      "Epoch 23/30\n",
      "300/300 [==============================] - 0s 221us/step - loss: 0.0365\n",
      "Epoch 24/30\n",
      "300/300 [==============================] - 0s 234us/step - loss: 0.0329\n",
      "Epoch 25/30\n",
      "300/300 [==============================] - 0s 218us/step - loss: 0.0320\n",
      "Epoch 26/30\n",
      "300/300 [==============================] - 0s 232us/step - loss: 0.0328\n",
      "Epoch 27/30\n",
      "300/300 [==============================] - 0s 225us/step - loss: 0.0297\n",
      "Epoch 28/30\n",
      "300/300 [==============================] - 0s 244us/step - loss: 0.0252\n",
      "Epoch 29/30\n",
      "300/300 [==============================] - 0s 217us/step - loss: 0.0290\n",
      "Epoch 30/30\n",
      "300/300 [==============================] - 0s 222us/step - loss: 0.0281\n"
     ]
    },
    {
     "data": {
      "text/plain": [
       "<keras.callbacks.History at 0x21cab8be550>"
      ]
     },
     "execution_count": 5,
     "metadata": {},
     "output_type": "execute_result"
    }
   ],
   "source": [
    "modelAdam = Sequential()\n",
    "modelAdam.add(Dense(3,  input_dim = 10000, activation='softmax'))\n",
    "modelAdam.compile(loss='categorical_crossentropy',optimizer=\"Adam\" ,metrics=['accuracy'])\n",
    "modelAdam.fit(X_train, Y_train, epochs=30, batch_size=32)"
   ]
  },
  {
   "cell_type": "markdown",
   "metadata": {},
   "source": [
    "Test the models"
   ]
  },
  {
   "cell_type": "code",
   "execution_count": 6,
   "metadata": {
    "collapsed": false
   },
   "outputs": [
    {
     "name": "stdout",
     "output_type": "stream",
     "text": [
      "Model with SGD optimizer \n",
      " =============================\n",
      "[[ 0.  0.  1.]]\n",
      "[[ 0.  0.  1.]]\n",
      "[[ 0.  0.  1.]]\n",
      "Model with Adam optimizer \n",
      " =============================\n",
      "[[ 1.  0.  0.]]\n",
      "[[ 0.  1.  0.]]\n",
      "[[ 0.  0.  1.]]\n"
     ]
    }
   ],
   "source": [
    "X_test1 = generate_a_rectangle()\n",
    "X_test1 = X_test1.reshape(1, X_test1.shape[0])\n",
    "X_test2 = generate_a_disk()\n",
    "X_test2 = X_test2.reshape(1, X_test2.shape[0])\n",
    "X_test3 = generate_a_triangle()[0]\n",
    "X_test3 = X_test3.reshape(1, X_test3.shape[0])\n",
    "print(\"Model with SGD optimizer \\n =============================\")\n",
    "print(model.predict(X_test1))\n",
    "print(model.predict(X_test2))\n",
    "print(model.predict(X_test3))\n",
    "print(\"Model with Adam optimizer \\n =============================\")\n",
    "print(modelAdam.predict(X_test1))\n",
    "print(modelAdam.predict(X_test2))\n",
    "print(modelAdam.predict(X_test3))"
   ]
  },
  {
   "cell_type": "code",
   "execution_count": 7,
   "metadata": {
    "collapsed": false
   },
   "outputs": [
    {
     "name": "stdout",
     "output_type": "stream",
     "text": [
      "Creating data:\n",
      "0\n",
      "10\n",
      "20\n",
      "30\n",
      "40\n",
      "50\n",
      "60\n",
      "70\n",
      "80\n",
      "90\n",
      "100\n",
      "110\n",
      "120\n",
      "130\n",
      "140\n",
      "150\n",
      "160\n",
      "170\n",
      "180\n",
      "190\n",
      "200\n",
      "210\n",
      "220\n",
      "230\n",
      "240\n",
      "250\n",
      "260\n",
      "270\n",
      "280\n",
      "290\n",
      "300/300 [==============================] - 0s 241us/step\n"
     ]
    },
    {
     "data": {
      "text/plain": [
       "11.551301803588867"
      ]
     },
     "execution_count": 7,
     "metadata": {},
     "output_type": "execute_result"
    }
   ],
   "source": [
    "[X_test, Y_test] = generate_test_set_classification(300)\n",
    "\n",
    "model.evaluate(X_test, Y_test)"
   ]
  },
  {
   "cell_type": "markdown",
   "metadata": {},
   "source": [
    "# Visualization of the solution"
   ]
  },
  {
   "cell_type": "code",
   "execution_count": 8,
   "metadata": {
    "collapsed": true
   },
   "outputs": [],
   "source": [
    "import matplotlib.cm as cm "
   ]
  },
  {
   "cell_type": "code",
   "execution_count": 9,
   "metadata": {
    "collapsed": false
   },
   "outputs": [],
   "source": [
    "weights = modelAdam.get_weights()"
   ]
  },
  {
   "cell_type": "code",
   "execution_count": 10,
   "metadata": {
    "collapsed": false
   },
   "outputs": [],
   "source": [
    "col1 = np.array([elem[0] for elem in weights[0]]).reshape((100,100))\n",
    "col2 = np.array([elem[1] for elem in weights[0]]).reshape((100,100))\n",
    "col3 = np.array([elem[2] for elem in weights[0]]).reshape((100,100))"
   ]
  },
  {
   "cell_type": "code",
   "execution_count": 11,
   "metadata": {
    "collapsed": false
   },
   "outputs": [
    {
     "data": {
      "image/png": "[encoded data removed]",
      "text/plain": [
       "<matplotlib.figure.Figure at 0x21cb52eb6d8>"
      ]
     },
     "metadata": {},
     "output_type": "display_data"
    }
   ],
   "source": [
    "plt.subplot(131)\n",
    "plt.imshow(col1, cmap='gray')\n",
    "plt.title('rectangle')\n",
    "\n",
    "plt.subplot(132)\n",
    "plt.imshow(col2, cmap='gray')\n",
    "plt.title('disk')\n",
    "\n",
    "plt.subplot(133)\n",
    "plt.imshow(col3, cmap='gray')\n",
    "plt.title('triangle')\n",
    "\n",
    "plt.show()"
   ]
  },
  {
   "cell_type": "markdown",
   "metadata": {
    "collapsed": false
   },
   "source": [
    "# A More Difficult Classification Problem"
   ]
  },
  {
   "cell_type": "code",
   "execution_count": 12,
   "metadata": {
    "collapsed": false
   },
   "outputs": [
    {
     "name": "stdout",
     "output_type": "stream",
     "text": [
      "Creating data:\n",
      "0\n",
      "10\n",
      "20\n",
      "30\n",
      "40\n",
      "50\n",
      "60\n",
      "70\n",
      "80\n",
      "90\n",
      "100\n",
      "110\n",
      "120\n",
      "130\n",
      "140\n",
      "150\n",
      "160\n",
      "170\n",
      "180\n",
      "190\n",
      "200\n",
      "210\n",
      "220\n",
      "230\n",
      "240\n",
      "250\n",
      "260\n",
      "270\n",
      "280\n",
      "290\n",
      "300\n",
      "310\n",
      "320\n",
      "330\n",
      "340\n",
      "350\n",
      "360\n",
      "370\n",
      "380\n",
      "390\n",
      "400\n",
      "410\n",
      "420\n",
      "430\n",
      "440\n",
      "450\n",
      "460\n",
      "470\n",
      "480\n",
      "490\n",
      "500\n",
      "510\n",
      "520\n",
      "530\n",
      "540\n",
      "550\n",
      "560\n",
      "570\n",
      "580\n",
      "590\n",
      "600\n",
      "610\n",
      "620\n",
      "630\n",
      "640\n",
      "650\n",
      "660\n",
      "670\n",
      "680\n",
      "690\n",
      "700\n",
      "710\n",
      "720\n",
      "730\n",
      "740\n",
      "750\n",
      "760\n",
      "770\n",
      "780\n",
      "790\n",
      "800\n",
      "810\n",
      "820\n",
      "830\n",
      "840\n",
      "850\n",
      "860\n",
      "870\n",
      "880\n",
      "890\n",
      "900\n",
      "910\n",
      "920\n",
      "930\n",
      "940\n",
      "950\n",
      "960\n",
      "970\n",
      "980\n",
      "990\n"
     ]
    }
   ],
   "source": [
    "[X_train1, Y_train1] = generate_dataset_classification(1000, 20, True)\n",
    "Y_train1 = np_utils.to_categorical(Y_train1)\n",
    "X_train1 = X_train1.reshape(1000,100,100,1)"
   ]
  },
  {
   "cell_type": "code",
   "execution_count": 13,
   "metadata": {
    "collapsed": false
   },
   "outputs": [
    {
     "name": "stdout",
     "output_type": "stream",
     "text": [
      "Creating data:\n",
      "0\n",
      "10\n",
      "20\n",
      "30\n",
      "40\n",
      "50\n",
      "60\n",
      "70\n",
      "80\n",
      "90\n",
      "100\n",
      "110\n",
      "120\n",
      "130\n",
      "140\n",
      "150\n",
      "160\n",
      "170\n",
      "180\n",
      "190\n",
      "200\n",
      "210\n",
      "220\n",
      "230\n",
      "240\n",
      "250\n",
      "260\n",
      "270\n",
      "280\n",
      "290\n",
      "300\n",
      "310\n",
      "320\n",
      "330\n",
      "340\n",
      "350\n",
      "360\n",
      "370\n",
      "380\n",
      "390\n",
      "400\n",
      "410\n",
      "420\n",
      "430\n",
      "440\n",
      "450\n",
      "460\n",
      "470\n",
      "480\n",
      "490\n",
      "500\n",
      "510\n",
      "520\n",
      "530\n",
      "540\n",
      "550\n",
      "560\n",
      "570\n",
      "580\n",
      "590\n",
      "600\n",
      "610\n",
      "620\n",
      "630\n",
      "640\n",
      "650\n",
      "660\n",
      "670\n",
      "680\n",
      "690\n",
      "700\n",
      "710\n",
      "720\n",
      "730\n",
      "740\n",
      "750\n",
      "760\n",
      "770\n",
      "780\n",
      "790\n",
      "800\n",
      "810\n",
      "820\n",
      "830\n",
      "840\n",
      "850\n",
      "860\n",
      "870\n",
      "880\n",
      "890\n",
      "900\n",
      "910\n",
      "920\n",
      "930\n",
      "940\n",
      "950\n",
      "960\n",
      "970\n",
      "980\n",
      "990\n"
     ]
    }
   ],
   "source": [
    "[X_test1, Y_test1] = generate_test_set_classification(500)\n",
    "X_test1 = X_test1.reshape(500,100,100,1)"
   ]
  },
  {
   "cell_type": "code",
   "execution_count": 14,
   "metadata": {
    "collapsed": false
   },
   "outputs": [
    {
     "name": "stdout",
     "output_type": "stream",
     "text": [
      "(None, 96, 96, 64)\n",
      "_________________________________________________________________\n",
      "Layer (type)                 Output Shape              Param #   \n",
      "=================================================================\n",
      "conv2d_1 (Conv2D)            (None, 96, 96, 64)        1664      \n",
      "_________________________________________________________________\n",
      "max_pooling2d_1 (MaxPooling2 (None, 24, 24, 64)        0         \n",
      "_________________________________________________________________\n",
      "dropout_1 (Dropout)          (None, 24, 24, 64)        0         \n",
      "_________________________________________________________________\n",
      "flatten_1 (Flatten)          (None, 36864)             0         \n",
      "_________________________________________________________________\n",
      "dense_3 (Dense)              (None, 124)               4571260   \n",
      "_________________________________________________________________\n",
      "dense_4 (Dense)              (None, 3)                 375       \n",
      "=================================================================\n",
      "Total params: 4,573,299\n",
      "Trainable params: 4,573,299\n",
      "Non-trainable params: 0\n",
      "_________________________________________________________________\n",
      "None\n"
     ]
    }
   ],
   "source": [
    "#Y_test1 = np_utils.to_categorical(Y_test1)\n",
    "\n",
    "model1 = Sequential()\n",
    "model1.add(Conv2D(64, (5,5), input_shape = (100,100,1), activation='relu'))\n",
    "print(model1.output_shape)\n",
    "model1.add(MaxPooling2D(pool_size = (4,4)))\n",
    "model1.add(Dropout(0.25))\n",
    "model1.add(Flatten())\n",
    "model1.add(Dense(124, activation='relu'))\n",
    "model1.add(Dense(3, activation='softmax'))\n",
    "\n",
    "model1.compile(loss='categorical_crossentropy', optimizer='adam', metrics=['accuracy'])\n",
    "print(model1.summary())"
   ]
  },
  {
   "cell_type": "code",
   "execution_count": 15,
   "metadata": {
    "collapsed": false
   },
   "outputs": [
    {
     "name": "stdout",
     "output_type": "stream",
     "text": [
      "Epoch 1/15\n",
      "1000/1000 [==============================] - 29s 29ms/step - loss: 1.4880 - acc: 0.4890\n",
      "Epoch 2/15\n",
      "1000/1000 [==============================] - 27s 27ms/step - loss: 0.7741 - acc: 0.6830\n",
      "Epoch 3/15\n",
      "1000/1000 [==============================] - 26s 26ms/step - loss: 0.6460 - acc: 0.7350\n",
      "Epoch 4/15\n",
      "1000/1000 [==============================] - 26s 26ms/step - loss: 0.5671 - acc: 0.7970\n",
      "Epoch 5/15\n",
      "1000/1000 [==============================] - 25s 25ms/step - loss: 0.4821 - acc: 0.8280\n",
      "Epoch 6/15\n",
      "1000/1000 [==============================] - 25s 25ms/step - loss: 0.3855 - acc: 0.8770\n",
      "Epoch 7/15\n",
      "1000/1000 [==============================] - 25s 25ms/step - loss: 0.3439 - acc: 0.8870\n",
      "Epoch 8/15\n",
      "1000/1000 [==============================] - 25s 25ms/step - loss: 0.2597 - acc: 0.9300\n",
      "Epoch 9/15\n",
      "1000/1000 [==============================] - 25s 25ms/step - loss: 0.2058 - acc: 0.9360\n",
      "Epoch 10/15\n",
      "1000/1000 [==============================] - 25s 25ms/step - loss: 0.1875 - acc: 0.9490\n",
      "Epoch 11/15\n",
      "1000/1000 [==============================] - 25s 25ms/step - loss: 0.1179 - acc: 0.9760\n",
      "Epoch 12/15\n",
      "1000/1000 [==============================] - 25s 25ms/step - loss: 0.1116 - acc: 0.9710\n",
      "Epoch 13/15\n",
      "1000/1000 [==============================] - 25s 25ms/step - loss: 0.0931 - acc: 0.9800\n",
      "Epoch 14/15\n",
      "1000/1000 [==============================] - 25s 25ms/step - loss: 0.0711 - acc: 0.9890\n",
      "Epoch 15/15\n",
      "1000/1000 [==============================] - 25s 25ms/step - loss: 0.0584 - acc: 0.9940\n"
     ]
    },
    {
     "data": {
      "text/plain": [
       "<keras.callbacks.History at 0x21cb52eb1d0>"
      ]
     },
     "execution_count": 15,
     "metadata": {},
     "output_type": "execute_result"
    }
   ],
   "source": [
    "model1.fit(X_train1, Y_train1, epochs=15, batch_size=32)"
   ]
  },
  {
   "cell_type": "code",
   "execution_count": 16,
   "metadata": {
    "collapsed": false
   },
   "outputs": [
    {
     "name": "stdout",
     "output_type": "stream",
     "text": [
      "1000/1000 [==============================] - 7s 7ms/step\n"
     ]
    },
    {
     "data": {
      "text/plain": [
       "[0.29999895521998404, 0.89200000000000002]"
      ]
     },
     "execution_count": 16,
     "metadata": {},
     "output_type": "execute_result"
    }
   ],
   "source": [
    "model1.evaluate(X_test1, Y_test1)"
   ]
  },
  {
   "cell_type": "code",
   "execution_count": null,
   "metadata": {
    "collapsed": true
   },
   "outputs": [],
   "source": []
  },
  {
   "cell_type": "markdown",
   "metadata": {},
   "source": [
    "# Regression problem"
   ]
  },
  {
   "cell_type": "code",
   "execution_count": 17,
   "metadata": {
    "collapsed": false
   },
   "outputs": [
    {
     "name": "stdout",
     "output_type": "stream",
     "text": [
      "Creating data:\n",
      "0\n",
      "10\n",
      "20\n",
      "30\n",
      "40\n",
      "50\n",
      "60\n",
      "70\n",
      "80\n",
      "90\n",
      "100\n",
      "110\n",
      "120\n",
      "130\n",
      "140\n",
      "150\n",
      "160\n",
      "170\n",
      "180\n",
      "190\n",
      "200\n",
      "210\n",
      "220\n",
      "230\n",
      "240\n",
      "250\n",
      "260\n",
      "270\n",
      "280\n",
      "290\n"
     ]
    },
    {
     "data": {
      "image/png": "[encoded data removed]",
      "text/plain": [
       "<matplotlib.figure.Figure at 0x21ccefd44a8>"
      ]
     },
     "metadata": {},
     "output_type": "display_data"
    },
    {
     "name": "stdout",
     "output_type": "stream",
     "text": [
      "(300, 10000)\n",
      "10000\n"
     ]
    }
   ],
   "source": [
    "[X_train2, Y_train2] = generate_dataset_regression(300, 20)\n",
    "#X_train2 = X_train2.reshape(300,100,100,1)\n",
    "#Y_train2 /= np.linalg.norm(Y_train2)\n",
    "#(X_train2/np.linalg.norm(X_train2))\n",
    "visualize_prediction(X_train2[0], Y_train2[0])\n",
    "print(X_train2.shape)\n",
    "print(X_train2.shape[1])"
   ]
  },
  {
   "cell_type": "code",
   "execution_count": 18,
   "metadata": {
    "collapsed": false
   },
   "outputs": [
    {
     "name": "stdout",
     "output_type": "stream",
     "text": [
      "Creating data:\n",
      "0\n",
      "10\n",
      "20\n",
      "30\n",
      "40\n",
      "50\n",
      "60\n",
      "70\n",
      "80\n",
      "90\n",
      "100\n",
      "110\n",
      "120\n",
      "130\n",
      "140\n",
      "150\n",
      "160\n",
      "170\n",
      "180\n",
      "190\n",
      "200\n",
      "210\n",
      "220\n",
      "230\n",
      "240\n",
      "250\n",
      "260\n",
      "270\n",
      "280\n",
      "290\n",
      "(300, 6, 3)\n"
     ]
    }
   ],
   "source": [
    "[X_test2, Y_test2] = generate_test_set_regression()\n",
    "#X_test2 /= np.linalg.norm(X_test2)\n",
    "#X_test2 = X_test2.reshape(300,100,100,1)\n",
    "#Y_test2 /= np.linalg.norm(Y_test2)\n",
    "print(Y_test2.shape)"
   ]
  },
  {
   "cell_type": "code",
   "execution_count": 19,
   "metadata": {
    "collapsed": false
   },
   "outputs": [
    {
     "name": "stdout",
     "output_type": "stream",
     "text": [
      "_________________________________________________________________\n",
      "Layer (type)                 Output Shape              Param #   \n",
      "=================================================================\n",
      "conv2d_2 (Conv2D)            (None, 96, 96, 16)        416       \n",
      "_________________________________________________________________\n",
      "max_pooling2d_2 (MaxPooling2 (None, 24, 24, 16)        0         \n",
      "_________________________________________________________________\n",
      "dropout_2 (Dropout)          (None, 24, 24, 16)        0         \n",
      "_________________________________________________________________\n",
      "flatten_2 (Flatten)          (None, 9216)              0         \n",
      "_________________________________________________________________\n",
      "dense_5 (Dense)              (None, 2)                 18434     \n",
      "=================================================================\n",
      "Total params: 18,850\n",
      "Trainable params: 18,850\n",
      "Non-trainable params: 0\n",
      "_________________________________________________________________\n",
      "None\n"
     ]
    }
   ],
   "source": [
    "model2 = Sequential()\n",
    "model2.add(Conv2D(16, (5,5), input_shape = (100,100,1), activation='relu'))\n",
    "model2.add(MaxPooling2D(pool_size = (4,4)))\n",
    "model2.add(Dropout(0.5))\n",
    "model2.add(Flatten())\n",
    "model2.add(Dense(2, activation='relu'))\n",
    "\n",
    "model2.compile(loss='mean_squared_error', optimizer='adam')\n",
    "print(model2.summary())\n"
   ]
  },
  {
   "cell_type": "code",
   "execution_count": 20,
   "metadata": {
    "collapsed": false
   },
   "outputs": [
    {
     "name": "stdout",
     "output_type": "stream",
     "text": [
      "(300, 10000)\n",
      "(300, 6)\n",
      "[[ 0.95664594  0.69114425  0.13892667  0.68002715  0.67375065  0.90914099]\n",
      " [ 0.57641848  0.19620874  0.93170221  0.13421338  0.44652102  0.88566276]\n",
      " [ 0.82647601  0.11275966  0.41630188  0.75806256  0.93873455  0.61193313]\n",
      " ..., \n",
      " [ 0.2626464   0.9984572   0.57157753  0.04735306  0.37542757  0.72773053]\n",
      " [ 0.5136718   0.58209325  0.34285549  0.32096361  0.38451635  0.8725518 ]\n",
      " [ 0.34731142  0.9550024   0.17915064  0.86491841  0.12748046  0.05618591]]\n"
     ]
    }
   ],
   "source": [
    "print(X_train2.shape)\n",
    "print(Y_train2.shape)\n",
    "print(Y_train2)"
   ]
  },
  {
   "cell_type": "code",
   "execution_count": null,
   "metadata": {
    "collapsed": true
   },
   "outputs": [],
   "source": []
  },
  {
   "cell_type": "code",
   "execution_count": 21,
   "metadata": {
    "collapsed": false
   },
   "outputs": [],
   "source": [
    "X_train2 = X_train2.reshape(300,100,100,1)\n",
    "#Y_train2 =np_utils.to_categorical(Y_train2, 3)"
   ]
  },
  {
   "cell_type": "code",
   "execution_count": 22,
   "metadata": {
    "collapsed": false
   },
   "outputs": [
    {
     "name": "stdout",
     "output_type": "stream",
     "text": [
      "(300, 6)\n"
     ]
    }
   ],
   "source": [
    "print(Y_train2.shape)"
   ]
  },
  {
   "cell_type": "code",
   "execution_count": 23,
   "metadata": {
    "collapsed": false
   },
   "outputs": [
    {
     "ename": "ValueError",
     "evalue": "Error when checking target: expected dense_5 to have shape (None, 2) but got array with shape (300, 6)",
     "output_type": "error",
     "traceback": [
      "\u001b[1;31m---------------------------------------------------------------------------\u001b[0m",
      "\u001b[1;31mValueError\u001b[0m                                Traceback (most recent call last)",
      "\u001b[1;32m<ipython-input-23-081b8b9dc31b>\u001b[0m in \u001b[0;36m<module>\u001b[1;34m()\u001b[0m\n\u001b[0;32m      1\u001b[0m \u001b[1;33m\u001b[0m\u001b[0m\n\u001b[1;32m----> 2\u001b[1;33m \u001b[0mmodel2\u001b[0m\u001b[1;33m.\u001b[0m\u001b[0mfit\u001b[0m\u001b[1;33m(\u001b[0m\u001b[0mX_train2\u001b[0m\u001b[1;33m,\u001b[0m \u001b[0mY_train2\u001b[0m\u001b[1;33m,\u001b[0m\u001b[0mepochs\u001b[0m\u001b[1;33m=\u001b[0m\u001b[1;36m10\u001b[0m\u001b[1;33m,\u001b[0m \u001b[0mbatch_size\u001b[0m\u001b[1;33m=\u001b[0m\u001b[1;36m32\u001b[0m\u001b[1;33m)\u001b[0m\u001b[1;33m\u001b[0m\u001b[0m\n\u001b[0m\u001b[0;32m      3\u001b[0m \u001b[1;33m\u001b[0m\u001b[0m\n\u001b[0;32m      4\u001b[0m \u001b[1;31m#validation_data=(X_test2, Y_test2)\u001b[0m\u001b[1;33m\u001b[0m\u001b[1;33m\u001b[0m\u001b[0m\n\u001b[0;32m      5\u001b[0m \u001b[1;33m\u001b[0m\u001b[0m\n",
      "\u001b[1;32mC:\\Users\\Melisande\\Anaconda3\\lib\\site-packages\\keras\\models.py\u001b[0m in \u001b[0;36mfit\u001b[1;34m(self, x, y, batch_size, epochs, verbose, callbacks, validation_split, validation_data, shuffle, class_weight, sample_weight, initial_epoch, steps_per_epoch, validation_steps, **kwargs)\u001b[0m\n\u001b[0;32m    958\u001b[0m                               \u001b[0minitial_epoch\u001b[0m\u001b[1;33m=\u001b[0m\u001b[0minitial_epoch\u001b[0m\u001b[1;33m,\u001b[0m\u001b[1;33m\u001b[0m\u001b[0m\n\u001b[0;32m    959\u001b[0m                               \u001b[0msteps_per_epoch\u001b[0m\u001b[1;33m=\u001b[0m\u001b[0msteps_per_epoch\u001b[0m\u001b[1;33m,\u001b[0m\u001b[1;33m\u001b[0m\u001b[0m\n\u001b[1;32m--> 960\u001b[1;33m                               validation_steps=validation_steps)\n\u001b[0m\u001b[0;32m    961\u001b[0m \u001b[1;33m\u001b[0m\u001b[0m\n\u001b[0;32m    962\u001b[0m     def evaluate(self, x, y, batch_size=32, verbose=1,\n",
      "\u001b[1;32mC:\\Users\\Melisande\\Anaconda3\\lib\\site-packages\\keras\\engine\\training.py\u001b[0m in \u001b[0;36mfit\u001b[1;34m(self, x, y, batch_size, epochs, verbose, callbacks, validation_split, validation_data, shuffle, class_weight, sample_weight, initial_epoch, steps_per_epoch, validation_steps, **kwargs)\u001b[0m\n\u001b[0;32m   1579\u001b[0m             \u001b[0mclass_weight\u001b[0m\u001b[1;33m=\u001b[0m\u001b[0mclass_weight\u001b[0m\u001b[1;33m,\u001b[0m\u001b[1;33m\u001b[0m\u001b[0m\n\u001b[0;32m   1580\u001b[0m             \u001b[0mcheck_batch_axis\u001b[0m\u001b[1;33m=\u001b[0m\u001b[1;32mFalse\u001b[0m\u001b[1;33m,\u001b[0m\u001b[1;33m\u001b[0m\u001b[0m\n\u001b[1;32m-> 1581\u001b[1;33m             batch_size=batch_size)\n\u001b[0m\u001b[0;32m   1582\u001b[0m         \u001b[1;31m# Prepare validation data.\u001b[0m\u001b[1;33m\u001b[0m\u001b[1;33m\u001b[0m\u001b[0m\n\u001b[0;32m   1583\u001b[0m         \u001b[0mdo_validation\u001b[0m \u001b[1;33m=\u001b[0m \u001b[1;32mFalse\u001b[0m\u001b[1;33m\u001b[0m\u001b[0m\n",
      "\u001b[1;32mC:\\Users\\Melisande\\Anaconda3\\lib\\site-packages\\keras\\engine\\training.py\u001b[0m in \u001b[0;36m_standardize_user_data\u001b[1;34m(self, x, y, sample_weight, class_weight, check_batch_axis, batch_size)\u001b[0m\n\u001b[0;32m   1416\u001b[0m                                     \u001b[0moutput_shapes\u001b[0m\u001b[1;33m,\u001b[0m\u001b[1;33m\u001b[0m\u001b[0m\n\u001b[0;32m   1417\u001b[0m                                     \u001b[0mcheck_batch_axis\u001b[0m\u001b[1;33m=\u001b[0m\u001b[1;32mFalse\u001b[0m\u001b[1;33m,\u001b[0m\u001b[1;33m\u001b[0m\u001b[0m\n\u001b[1;32m-> 1418\u001b[1;33m                                     exception_prefix='target')\n\u001b[0m\u001b[0;32m   1419\u001b[0m         sample_weights = _standardize_sample_weights(sample_weight,\n\u001b[0;32m   1420\u001b[0m                                                      self._feed_output_names)\n",
      "\u001b[1;32mC:\\Users\\Melisande\\Anaconda3\\lib\\site-packages\\keras\\engine\\training.py\u001b[0m in \u001b[0;36m_standardize_input_data\u001b[1;34m(data, names, shapes, check_batch_axis, exception_prefix)\u001b[0m\n\u001b[0;32m    151\u001b[0m                             \u001b[1;34m' to have shape '\u001b[0m \u001b[1;33m+\u001b[0m \u001b[0mstr\u001b[0m\u001b[1;33m(\u001b[0m\u001b[0mshapes\u001b[0m\u001b[1;33m[\u001b[0m\u001b[0mi\u001b[0m\u001b[1;33m]\u001b[0m\u001b[1;33m)\u001b[0m \u001b[1;33m+\u001b[0m\u001b[1;33m\u001b[0m\u001b[0m\n\u001b[0;32m    152\u001b[0m                             \u001b[1;34m' but got array with shape '\u001b[0m \u001b[1;33m+\u001b[0m\u001b[1;33m\u001b[0m\u001b[0m\n\u001b[1;32m--> 153\u001b[1;33m                             str(array.shape))\n\u001b[0m\u001b[0;32m    154\u001b[0m     \u001b[1;32mreturn\u001b[0m \u001b[0marrays\u001b[0m\u001b[1;33m\u001b[0m\u001b[0m\n\u001b[0;32m    155\u001b[0m \u001b[1;33m\u001b[0m\u001b[0m\n",
      "\u001b[1;31mValueError\u001b[0m: Error when checking target: expected dense_5 to have shape (None, 2) but got array with shape (300, 6)"
     ]
    }
   ],
   "source": [
    "\n",
    "model2.fit(X_train2, Y_train2,epochs=10, batch_size=32)\n",
    "\n",
    "#validation_data=(X_test2, Y_test2)          \n",
    "          "
   ]
  },
  {
   "cell_type": "code",
   "execution_count": null,
   "metadata": {
    "collapsed": false
   },
   "outputs": [],
   "source": [
    "visualize_prediction(X_test2[0],model2.predict(X_test2)[0])"
   ]
  },
  {
   "cell_type": "code",
   "execution_count": null,
   "metadata": {
    "collapsed": true
   },
   "outputs": [],
   "source": []
  },
  {
   "cell_type": "code",
   "execution_count": null,
   "metadata": {
    "collapsed": true
   },
   "outputs": [],
   "source": []
  }
 ],
 "metadata": {
  "kernelspec": {
   "display_name": "Python 3",
   "language": "python",
   "name": "python3"
  },
  "language_info": {
   "codemirror_mode": {
    "name": "ipython",
    "version": 3
   },
   "file_extension": ".py",
   "mimetype": "text/x-python",
   "name": "python",
   "nbconvert_exporter": "python",
   "pygments_lexer": "ipython3",
   "version": "3.5.4"
  }
 },
 "nbformat": 4,
 "nbformat_minor": 0
}
