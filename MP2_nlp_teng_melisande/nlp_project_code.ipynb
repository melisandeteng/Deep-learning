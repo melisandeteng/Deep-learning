{
 "cells": [
  {
   "cell_type": "markdown",
   "metadata": {},
   "source": [
    "# Deep Learning for NLP - Project\n",
    "\n",
    "Mélisande Teng"
   ]
  },
  {
   "cell_type": "markdown",
   "metadata": {},
   "source": [
    "RULES:\n",
    "\n",
    "* Do not create any additional cell\n",
    "\n",
    "* Fill in the blanks\n",
    "\n",
    "* All cells should be runnable (modulo trivial compatibility bugs that we'd fix)\n",
    "\n",
    "* 4 / 20 points will be allocated to the clarity of your code\n",
    "\n",
    "* Efficient code will have a bonus\n",
    "\n",
    "DELIVERABLE:\n",
    "\n",
    "* this notebook\n",
    "* the predictions of the SST test set\n",
    "\n",
    "DO NOT INCLUDE THE DATASETS IN THE DELIVERABLE.."
   ]
  },
  {
   "cell_type": "code",
   "execution_count": 1,
   "metadata": {
    "collapsed": true
   },
   "outputs": [],
   "source": [
    "import io\n",
    "import os\n",
    "import numpy as np\n",
    "import scipy\n",
    "import matplotlib.pyplot as plt\n",
    "%matplotlib inline"
   ]
  },
  {
   "cell_type": "code",
   "execution_count": 2,
   "metadata": {
    "collapsed": true
   },
   "outputs": [],
   "source": [
    "PATH_TO_DATA = 'data/'"
   ]
  },
  {
   "cell_type": "markdown",
   "metadata": {},
   "source": [
    "# 1) Monolingual (English) word embeddings "
   ]
  },
  {
   "cell_type": "code",
   "execution_count": 3,
   "metadata": {
    "collapsed": false
   },
   "outputs": [],
   "source": [
    "class Word2vec():\n",
    "    def __init__(self, fname, nmax=100000):\n",
    "        self.load_wordvec(fname, nmax)\n",
    "        self.word2id = dict.fromkeys(self.word2vec.keys())\n",
    "        self.id2word = {v: k for k, v in self.word2id.items()}\n",
    "        self.embeddings = np.array(self.word2vec.values())\n",
    "    \n",
    "    def load_wordvec(self, fname, nmax):\n",
    "        self.word2vec = {}\n",
    "        with io.open(fname, encoding='utf-8') as f:\n",
    "            next(f)\n",
    "            for i, line in enumerate(f):\n",
    "                word, vec = line.split(' ', 1)\n",
    "                self.word2vec[word] = np.fromstring(vec, sep=' ')\n",
    "                if i == (nmax - 1):\n",
    "                    break\n",
    "        print('Loaded %s pretrained word vectors' % (len(self.word2vec)))\n",
    "    \n",
    "    def score(self, w1, w2):\n",
    "        W1 = w1\n",
    "        W2 = w2\n",
    "        ###########################################################\n",
    "        # I had added this part to take into account the case when the word is not recognized because it starts\n",
    "        #with a lowercase letter instead of uppercase for a propernoun. However, this made the computation really slow, and\n",
    "        #it was faster just to read the whole set of 100000 words than reading 25000 and capitalizing the words which\n",
    "        #were not found.\n",
    "        ###########################################################\n",
    "        #if W1 not in self.word2vec.keys():\n",
    "        #    if W1.capitalize() in self.word2vec.keys():\n",
    "        #        W1 = W1.capitalize()\n",
    "        #    else:\n",
    "        #        return (0)\n",
    "        #if W2 not in self.word2vec.keys():\n",
    "        #    if W2.capitalize() in self.word2vec.keys():\n",
    "        #        W2 = W2.capitalize()\n",
    "        #    else:\n",
    "        #        return (0)\n",
    "        if type(W1)== str :#or type(W1)== unicode:\n",
    "            v1, v2 = self.word2vec[w1], self.word2vec[W2]\n",
    "            score = np.dot(v1,v2)/(np.linalg.norm(v1)*np.linalg.norm(v2))\n",
    "        elif type(W1) == np.ndarray : \n",
    "            score = np.dot(W1,W2)/(np.linalg.norm(W1)*np.linalg.norm(W2))\n",
    "        return score\n",
    "\n",
    "    def most_similar(self, w, K=5, pop = False):\n",
    "        \"\"\" \n",
    "        If pop is set to True, this deletes the most similar because it is always w. \n",
    "        This is useful when we are just looking at words most similar to w, \n",
    "        but not when we are doing translation tasks because we would take out the most likely translation \n",
    "        and thus not have a chance to get the accurate translation\n",
    "        \"\"\"\n",
    "        if type(w)== str : #or type(w)== unicode:\n",
    "            scores = [(word, self.score(w,word)) for word in self.word2vec]\n",
    "        elif type(w)== np.ndarray:\n",
    "            scores = [(word, self.score(w,self.word2vec[word])) for word in self.word2vec]\n",
    "        scores.sort(key=lambda x:x[1], reverse=True)\n",
    "        if pop:  \n",
    "            scores.pop(0) # delete the most similar because it is always w.\n",
    "        return scores[:K]\n",
    "\n"
   ]
  },
  {
   "cell_type": "code",
   "execution_count": 7,
   "metadata": {
    "collapsed": false
   },
   "outputs": [
    {
     "name": "stdout",
     "output_type": "stream",
     "text": [
      "Loaded 100000 pretrained word vectors\n",
      "cat dog 0.671683666279249\n",
      "dog pet 0.6842064029669219\n",
      "dogs cats 0.7074389328052404\n",
      "paris france 0.7775108541288563\n",
      "germany berlin 0.7420295235998394\n",
      "Most similar words to : cat\n",
      "('cats', 0.8353184714264995)\n",
      "('kitty', 0.8034410478493814)\n",
      "('kitten', 0.8024762062392741)\n",
      "('feline', 0.7680654076911859)\n",
      "('kitties', 0.7237089223394708)\n",
      "\n",
      "\n",
      "Most similar words to : dog\n",
      "('dogs', 0.8552079163362583)\n",
      "('puppy', 0.784569427961543)\n",
      "('Dog', 0.7511571638004245)\n",
      "('doggie', 0.744241335717672)\n",
      "('canine', 0.7421250622701406)\n",
      "\n",
      "\n",
      "Most similar words to : dogs\n",
      "('dog', 0.8552079163362583)\n",
      "('pooches', 0.7712664737679777)\n",
      "('Dogs', 0.7704396457434113)\n",
      "('doggies', 0.7699192773615035)\n",
      "('canines', 0.7527040042648152)\n",
      "\n",
      "\n",
      "Most similar words to : paris\n",
      "('france', 0.7775108541288563)\n",
      "('Paris', 0.6845140397494102)\n",
      "('london', 0.6728545431461279)\n",
      "('berlin', 0.6424447628126262)\n",
      "('tokyo', 0.6409621495653873)\n",
      "\n",
      "\n",
      "Most similar words to : germany\n",
      "('austria', 0.7687671987529507)\n",
      "('europe', 0.7597591231074468)\n",
      "('german', 0.7445826305760618)\n",
      "('berlin', 0.7420295235998394)\n",
      "('poland', 0.723670565727986)\n",
      "\n",
      "\n"
     ]
    }
   ],
   "source": [
    "w2v = Word2vec(os.path.join(PATH_TO_DATA, 'crawl-300d-200k.vec'), nmax=100000)\n",
    "\n",
    "# You will be evaluated on the output of the following:\n",
    "for w1, w2 in zip(('cat', 'dog', 'dogs', 'paris', 'germany'), ('dog', 'pet', 'cats', 'france', 'berlin')):\n",
    "    print(w1, w2, w2v.score(w1, w2))\n",
    "for w1 in ['cat', 'dog', 'dogs', 'paris', 'germany']:\n",
    "    print('Most similar words to :', w1)\n",
    "    for res in w2v.most_similar(w1, pop = True):  #delete the most similar because it is always w1.\n",
    "        print(res)\n",
    "    print(\"\\n\")"
   ]
  },
  {
   "cell_type": "code",
   "execution_count": 4,
   "metadata": {
    "collapsed": true
   },
   "outputs": [],
   "source": [
    "class BoV():\n",
    "    def __init__(self, w2v):\n",
    "        self.w2v = w2v\n",
    "    \n",
    "    def encode(self, sentences, idf=False):\n",
    "        # takes a list of sentences, outputs a numpy array of sentence embeddings\n",
    "        # see TP1 for help\n",
    "        sentemb = []\n",
    "        if idf is False:\n",
    "            for sent in sentences:\n",
    "                # mean of word vectors\n",
    "                sentemb.append(np.mean([self.w2v.word2vec[w] for w in sent.split() if w in self.w2v.word2vec], axis=0))\n",
    "        else:\n",
    "            for sent in sentences:\n",
    "                # idf-weighted mean of word vectors\n",
    "                sentemb.append(np.sum([self.w2v.word2vec[w]*idf[w] for w in sent.split() if w in self.w2v.word2vec],axis=0))\n",
    "        return np.vstack(sentemb)\n",
    "\n",
    "    def most_similar(self, s, sentences, idf=False, K=5, pop = False):\n",
    "        # get most similar sentences and **print** them\n",
    "        keys = self.encode(sentences,idf)\n",
    "        query = self.encode([s],idf)[0]\n",
    "        \n",
    "        scores = [(i, self.cosine(query,s_)) for i,s_ in enumerate(keys)]\n",
    "        scores.sort(key=lambda x:x[1], reverse=True)\n",
    "        if pop:\n",
    "            scores.pop(0) # delete the most similar because always is s\n",
    "        print(\"Query : \", s)\n",
    "        for (i,score) in scores[:K]:\n",
    "            print(sentences[i])\n",
    "        return \n",
    "    \n",
    "    def cosine(self,v1,v2):\n",
    "        return np.dot(v1,v2)/(np.linalg.norm(v1)*np.linalg.norm(v2))\n",
    "\n",
    "    def score(self, s1, s2, idf=False):\n",
    "        # cosine similarity: use   np.dot  and  np.linalg.norm\n",
    "        vs1 = self.encode([s1],idf)[0]\n",
    "        vs2 = self.encode([s2],idf)[0]\n",
    "        score = self.cosine(vs1,vs2)\n",
    "        return score\n",
    "    \n",
    "    def build_idf(self, sentences):\n",
    "        # build the idf dictionary: associate each word to its idf value\n",
    "        idf = {}\n",
    "        for sent in sentences:\n",
    "            for w in set(sent.split()):\n",
    "                idf[w] = idf.get(w, 0) + 1\n",
    "        \n",
    "        for word in idf.keys():\n",
    "            idf[word] = max(1, np.log10(len(sentences) / (idf[word])))\n",
    "        return idf\n"
   ]
  },
  {
   "cell_type": "code",
   "execution_count": 5,
   "metadata": {
    "collapsed": false
   },
   "outputs": [
    {
     "name": "stdout",
     "output_type": "stream",
     "text": [
      "Loaded 100000 pretrained word vectors\n",
      "Query :  1 smiling african american boy . \n",
      "\n",
      "an african american man smiling . \n",
      "\n",
      "a little african american boy and girl looking up . \n",
      "\n",
      "an afican american woman standing behind two small african american children . \n",
      "\n",
      "an african american man is sitting . \n",
      "\n",
      "a girl in black hat holding an african american baby . \n",
      "\n",
      "0.5726258859719605\n",
      "Query :  1 smiling african american boy . \n",
      "\n",
      "an african american man smiling . \n",
      "\n",
      "an african american man is sitting . \n",
      "\n",
      "a little african american boy and girl looking up . \n",
      "\n",
      "an afican american woman standing behind two small african american children . \n",
      "\n",
      "a girl in black hat holding an african american baby . \n",
      "\n",
      "0.4751450875368783\n"
     ]
    }
   ],
   "source": [
    "w2v = Word2vec(os.path.join(PATH_TO_DATA, 'crawl-300d-200k.vec'), nmax=100000)\n",
    "s2v = BoV(w2v)\n",
    "\n",
    "# Load sentences in \"PATH_TO_DATA/sentences.txt\"\n",
    "sentences = []\n",
    "with io.open(os.path.join(PATH_TO_DATA, 'sentences.txt'),encoding='utf-8') as f:\n",
    "    for line in f:\n",
    "        sentences.append(line)\n",
    "\n",
    "# You will be evaluated on the output of the following:\n",
    "s2v.most_similar('' if not sentences else sentences[10], sentences, pop = True)  # BoV-mean\n",
    "print(s2v.score('' if not sentences else sentences[7], '' if not sentences else sentences[13]))\n",
    "\n",
    "\n",
    "idf = s2v.build_idf(sentences)\n",
    "s2v.most_similar('' if not sentences else sentences[10], sentences, idf, pop = True)  # BoV-idf\n",
    "print(s2v.score('' if not sentences else sentences[7], '' if not sentences else sentences[13], idf))"
   ]
  },
  {
   "cell_type": "markdown",
   "metadata": {},
   "source": [
    "# 2) Multilingual (English-French) word embeddings"
   ]
  },
  {
   "cell_type": "markdown",
   "metadata": {},
   "source": [
    "Let's consider a bilingual dictionary of size V_a (e.g French-English).\n",
    "\n",
    "Let's define **X** and **Y** the **French** and **English** matrices.\n",
    "\n",
    "They contain the embeddings associated to the words in the bilingual dictionary.\n",
    "\n",
    "We want to find a **mapping W** that will project the source word space (e.g French) to the target word space (e.g English).\n",
    "\n",
    "Procrustes : **W\\* = argmin || W.X - Y ||  s.t  W^T.W = Id**\n",
    "has a closed form solution:\n",
    "**W = U.V^T  where  U.Sig.V^T = SVD(Y.X^T)**\n",
    "\n",
    "In what follows, you are asked to: "
   ]
  },
  {
   "cell_type": "code",
   "execution_count": 10,
   "metadata": {
    "collapsed": false,
    "scrolled": true
   },
   "outputs": [
    {
     "name": "stdout",
     "output_type": "stream",
     "text": [
      "Loaded 50000 pretrained word vectors\n",
      "Loaded 50000 pretrained word vectors\n"
     ]
    }
   ],
   "source": [
    "# 1 - Download and load 50k first vectors of\n",
    "#     https://s3-us-west-1.amazonaws.com/fasttext-vectors/wiki.en.vec\n",
    "#     https://s3-us-west-1.amazonaws.com/fasttext-vectors/wiki.fr.vec\n",
    "\n",
    "# TYPE CODE HERE\n",
    "w2v_fr = Word2vec(os.path.join(PATH_TO_DATA, 'wiki.fr.vec'), nmax=50000)\n",
    "w2v_en = Word2vec(os.path.join(PATH_TO_DATA, 'wiki.en.vec'), nmax=50000)"
   ]
  },
  {
   "cell_type": "code",
   "execution_count": 11,
   "metadata": {
    "collapsed": true
   },
   "outputs": [],
   "source": [
    "# 2 - Get words that appear in both vocabs (= identical character strings)\n",
    "#     Use it to create the matrix X and Y (of aligned embeddings for these words)\n",
    "\n",
    "words_in_both =np.array([w for w in w2v_fr.word2vec if w in w2v_en.word2vec ])\n",
    "\n",
    "X = np.array([w2v_fr.word2vec[w] for w in words_in_both]).T\n",
    "Y = np.array([w2v_en.word2vec[w] for w in words_in_both]).T   \n",
    "\n"
   ]
  },
  {
   "cell_type": "code",
   "execution_count": 12,
   "metadata": {
    "collapsed": true
   },
   "outputs": [],
   "source": [
    "# 3 - Solve the Procrustes using the scipy package and: np.linalg.svd() and get the optimal W\n",
    "#     Now W*French_vector is in the same space as English_vector\n",
    "\n",
    "# TYPE CODE HERE\n",
    "U,S,Vt = np.linalg.svd(np.dot(Y, X.T))\n",
    "W = np.dot(U, Vt)\n",
    "invW = np.linalg.inv(W)"
   ]
  },
  {
   "cell_type": "code",
   "execution_count": 13,
   "metadata": {
    "collapsed": false
   },
   "outputs": [
    {
     "name": "stdout",
     "output_type": "stream",
     "text": [
      "Most similar words in English to :  chat\n",
      "cat\n",
      "rabbit\n",
      "hamster\n",
      "feline\n",
      "poodle\n",
      "\n",
      "Most similar words in English to :  manifestant\n",
      "demonstrators\n",
      "protesters\n",
      "protestors\n",
      "manifestations\n",
      "protester\n",
      "\n",
      "Most similar words in English to :  robe\n",
      "gown\n",
      "blouse\n",
      "robes\n",
      "gowns\n",
      "dresses\n",
      "\n",
      "Most similar words in English to :  assiette\n",
      "meal\n",
      "dough\n",
      "diners\n",
      "bread\n",
      "dishes\n",
      "\n",
      "Most similar words in English to :  herbe\n",
      "grass\n",
      "grasses\n",
      "herbaceous\n",
      "weeds\n",
      "pasture\n",
      "\n",
      "Most similar words in French to :  church\n",
      "église\n",
      "church\n",
      "anglicane\n",
      "presbytérienne\n",
      "paroissiale\n",
      "\n",
      "Most similar words in French to :  wheel\n",
      "wheel\n",
      "roues\n",
      "roue\n",
      "essieu\n",
      "embrayage\n",
      "\n",
      "Most similar words in French to :  cup\n",
      "coupe\n",
      "cup\n",
      "coupes\n",
      "supercoupe\n",
      "champions\n",
      "\n",
      "Most similar words in French to :  scissors\n",
      "ciseaux\n",
      "pince\n",
      "pinces\n",
      "ciseau\n",
      "knife\n",
      "\n",
      "Most similar words in French to :  glitter\n",
      "aerosmith\n",
      "minogue\n",
      "minaj\n",
      "pretty\n",
      "smile\n",
      "\n"
     ]
    }
   ],
   "source": [
    "# 4 - After alignment with W, give examples of English nearest neighbors of some French words (and vice versa)\n",
    "#     You will be evaluated on that part and the code above\n",
    "\n",
    "# TYPE CODE HERE\n",
    "french_words = [\"chat\", \"manifestant\", \"robe\", \"assiette\", \"herbe\"]\n",
    "for w in french_words:\n",
    "    print('Most similar words in English to : ', w)\n",
    "    nn_words =  w2v_en.most_similar(np.dot(W,w2v_fr.word2vec[w]))\n",
    "    for sw in nn_words:\n",
    "        print(sw[0])\n",
    "    print(\"\")\n",
    "\n",
    "english_words = [\"church\", \"wheel\", \"cup\", \"scissors\", \"glitter\"]\n",
    "for w in english_words:\n",
    "    print('Most similar words in French to : ', w)\n",
    "    nn_words =  w2v_fr.most_similar(np.dot(invW,w2v_en.word2vec[w]))\n",
    "    for sw in nn_words:\n",
    "        print(sw[0])\n",
    "    print(\"\")"
   ]
  },
  {
   "cell_type": "markdown",
   "metadata": {},
   "source": [
    "If you want to dive deeper on this subject: https://github.com/facebookresearch/MUSE"
   ]
  },
  {
   "cell_type": "markdown",
   "metadata": {},
   "source": [
    "# 3) Sentence classification with BoV and scikit-learn"
   ]
  },
  {
   "cell_type": "code",
   "execution_count": 6,
   "metadata": {
    "collapsed": true
   },
   "outputs": [],
   "source": [
    "# 1 - Load train/dev/test of Stanford Sentiment TreeBank (SST)\n",
    "#     (https://nlp.stanford.edu/~socherr/EMNLP2013_RNTN.pdf)\n",
    "SST_train = []\n",
    "y_train = []\n",
    "with io.open(os.path.join(PATH_TO_DATA, 'SST/stsa.fine.train'),encoding='utf-8') as f:\n",
    "    for line in f:\n",
    "        SST_train.append(line[1:])\n",
    "        y_train.append(line[0])\n",
    "y_train = np.array(y_train, dtype=int)\n",
    "SST_test = []\n",
    "with io.open(os.path.join(PATH_TO_DATA, 'SST/stsa.fine.test'),encoding='utf-8') as f:\n",
    "    for line in f:\n",
    "        SST_test.append(line)\n",
    "SST_dev = []\n",
    "y_dev = []\n",
    "with io.open(os.path.join(PATH_TO_DATA, 'SST/stsa.fine.dev'),encoding='utf-8') as f:\n",
    "    for line in f:\n",
    "        SST_dev.append(line[1:])\n",
    "        y_dev.append(line[0])\n",
    "y_dev = np.array(y_dev, dtype=int)\n",
    "\n",
    "# TYPE CODE HERE"
   ]
  },
  {
   "cell_type": "code",
   "execution_count": 7,
   "metadata": {
    "collapsed": false
   },
   "outputs": [
    {
     "name": "stdout",
     "output_type": "stream",
     "text": [
      "Loaded 200000 pretrained word vectors\n"
     ]
    }
   ],
   "source": [
    "# 2 - Encode sentences with the BoV model above\n",
    "w2v = Word2vec(os.path.join(PATH_TO_DATA, 'crawl-300d-200k.vec'), nmax=200000)\n",
    "s2v = BoV(w2v)"
   ]
  },
  {
   "cell_type": "markdown",
   "metadata": {},
   "source": [
    "### Using average word vectors"
   ]
  },
  {
   "cell_type": "code",
   "execution_count": 8,
   "metadata": {
    "collapsed": false
   },
   "outputs": [],
   "source": [
    "\n",
    "# TYPE CODE HERE\n",
    "X_train = s2v.encode(SST_train)\n",
    "X_dev = s2v.encode(SST_dev)\n",
    "X_test = s2v.encode(SST_test)"
   ]
  },
  {
   "cell_type": "code",
   "execution_count": 18,
   "metadata": {
    "collapsed": false
   },
   "outputs": [
    {
     "name": "stdout",
     "output_type": "stream",
     "text": [
      "Score with C =0.2  0.43505903723887374\n",
      "Score with C =0.5  0.44323342415985467\n",
      "Score with C =1  0.4396003633060854\n",
      "Score with C =1.5  0.4368755676657584\n",
      "Score with C =2  0.4359673024523161\n",
      "Score with C =5  0.4396003633060854\n"
     ]
    }
   ],
   "source": [
    "from sklearn.linear_model import LogisticRegression\n",
    "# 3 - Learn Logistic Regression on top of sentence embeddings using scikit-learn\n",
    "#     (consider tuning the L2 regularization on the dev set)\n",
    "#try to find C parameter we will fine tune afterwards\n",
    "for C in [0.2,0.5,1,1.5,2,5]:\n",
    "    model = LogisticRegression(C=C)\n",
    "    model.fit(X_train, y_train)\n",
    "    print (\"Score with C ={} \".format(C), model.score(X_dev,y_dev))\n",
    "# TYPE CODE HERE"
   ]
  },
  {
   "cell_type": "code",
   "execution_count": 19,
   "metadata": {
    "collapsed": false
   },
   "outputs": [
    {
     "name": "stdout",
     "output_type": "stream",
     "text": [
      "Score with C train set=0.4  0.48022003745318353\n",
      "Score with C dev set=0.4  0.4396003633060854\n",
      "Score with C train set=0.5  0.481624531835206\n",
      "Score with C dev set=0.5  0.44323342415985467\n",
      "Score with C train set=0.6  0.4833801498127341\n",
      "Score with C dev set=0.6  0.4405086285195277\n",
      "Score with C train set=0.7  0.48618913857677903\n",
      "Score with C dev set=0.7  0.44141689373297005\n",
      "Score with C train set=0.8  0.48654026217228463\n",
      "Score with C dev set=0.8  0.43778383287920075\n",
      "Score with C train set=0.9  0.48911516853932585\n",
      "Score with C dev set=0.9  0.4368755676657584\n"
     ]
    }
   ],
   "source": [
    "for C in [0.4,0.5,0.6,0.7,0.8,0.9]:\n",
    "    model = LogisticRegression(C=C)\n",
    "    model.fit(X_train, y_train)\n",
    "    print (\"Score with C train set={} \".format(C), model.score(X_train,y_train))\n",
    "    print (\"Score with C dev set={} \".format(C), model.score(X_dev,y_dev))"
   ]
  },
  {
   "cell_type": "markdown",
   "metadata": {},
   "source": [
    "### Using weighted average"
   ]
  },
  {
   "cell_type": "code",
   "execution_count": 20,
   "metadata": {
    "collapsed": false
   },
   "outputs": [
    {
     "name": "stdout",
     "output_type": "stream",
     "text": [
      "Loaded 200000 pretrained word vectors\n"
     ]
    }
   ],
   "source": [
    "w2v = Word2vec(os.path.join(PATH_TO_DATA, 'crawl-300d-200k.vec'), nmax=200000)\n",
    "s2v2 = BoV(w2v)\n"
   ]
  },
  {
   "cell_type": "code",
   "execution_count": 21,
   "metadata": {
    "collapsed": false
   },
   "outputs": [
    {
     "name": "stdout",
     "output_type": "stream",
     "text": [
      "Score with C =0.1 train set  0.5017556179775281\n",
      "Score with C =0.1 dev set 0.40599455040871935\n",
      "Score with C =0.2 train set  0.5015215355805244\n",
      "Score with C =0.2 dev set 0.40962761126248864\n",
      "Score with C =0.3 train set  0.50187265917603\n",
      "Score with C =0.3 dev set 0.40962761126248864\n",
      "Score with C =0.4 train set  0.5019897003745318\n",
      "Score with C =0.4 dev set 0.4087193460490463\n",
      "Score with C =0.5 train set  0.50187265917603\n",
      "Score with C =0.5 dev set 0.4087193460490463\n",
      "Score with C =5 train set  0.5014044943820225\n",
      "Score with C =5 dev set 0.4087193460490463\n"
     ]
    }
   ],
   "source": [
    "idf_train = s2v2.build_idf(SST_train)\n",
    "idf_test = s2v2.build_idf(SST_test)\n",
    "idf_dev = s2v2.build_idf(SST_dev)\n",
    "X_train2 = s2v2.encode(SST_train, idf_train)\n",
    "\n",
    "X_dev2 = s2v2.encode(SST_dev, idf_dev)\n",
    "X_test2 = s2v2.encode(SST_test, idf_test)\n",
    "from sklearn.linear_model import LogisticRegression\n",
    "for C in [0.1,0.2,0.3,0.4,0.5,5]:\n",
    "    model = LogisticRegression(C=C)\n",
    "    model.fit(X_train2, y_train)\n",
    "    print (\"Score with C ={} train set \".format(C), model.score(X_train2,y_train))\n",
    "    print (\"Score with C ={} dev set\".format(C), model.score(X_dev2,y_dev))"
   ]
  },
  {
   "cell_type": "code",
   "execution_count": 22,
   "metadata": {
    "collapsed": false
   },
   "outputs": [
    {
     "name": "stdout",
     "output_type": "stream",
     "text": [
      "Score with C =0.2 train set  0.5015215355805244\n",
      "Score with C =0.2 dev set 0.40962761126248864\n",
      "Score with C =0.22 train set  0.5016385767790262\n",
      "Score with C =0.22 dev set 0.40962761126248864\n",
      "Score with C =0.25 train set  0.5016385767790262\n",
      "Score with C =0.25 dev set 0.40962761126248864\n",
      "Score with C =0.28 train set  0.5016385767790262\n",
      "Score with C =0.28 dev set 0.40962761126248864\n"
     ]
    }
   ],
   "source": [
    "for C in [0.2, 0.22, 0.25, 0.28]:\n",
    "    model = LogisticRegression(C=C)\n",
    "    model.fit(X_train2, y_train)\n",
    "    print (\"Score with C ={} train set \".format(C), model.score(X_train2,y_train))\n",
    "    print (\"Score with C ={} dev set\".format(C), model.score(X_dev2,y_dev))"
   ]
  },
  {
   "cell_type": "markdown",
   "metadata": {},
   "source": [
    "### Model chosen\n",
    "\n",
    "We choose the model with  average word vectors and parameter C = 0.5 for the logistic regression."
   ]
  },
  {
   "cell_type": "code",
   "execution_count": 23,
   "metadata": {
    "collapsed": false
   },
   "outputs": [],
   "source": [
    "# 4 - Produce 2210 predictions for the test set (in the same order). One line = one prediction (=0,1,2,3,4).\n",
    "#     Attach the output file \"logreg_bov_y_test_sst.txt\" to your deliverable.\n",
    "#     You will be evaluated on the results of the test set.\n",
    "clf = LogisticRegression(C=0.5)\n",
    "clf.fit(np.concatenate([X_train, X_dev]),np.concatenate([y_train,y_dev]))\n",
    "y_pred = clf.predict(X_test)\n",
    "with open(\"logreg_bov_y_test_sst.txt\", \"w\") as f:\n",
    "    for label in y_pred:\n",
    "        f.write(label.astype('str')+'\\n')\n",
    "\n",
    "# TYPE CODE HERE"
   ]
  },
  {
   "cell_type": "code",
   "execution_count": 24,
   "metadata": {
    "collapsed": false
   },
   "outputs": [
    {
     "name": "stdout",
     "output_type": "stream",
     "text": [
      "Score with C =0.5 dev+train set 0.48118195956454124\n"
     ]
    }
   ],
   "source": [
    "print (\"Score with C ={} dev+train set\".format(0.5), clf.score(np.concatenate([X_train, X_dev]),np.concatenate([y_train,y_dev])))"
   ]
  },
  {
   "cell_type": "markdown",
   "metadata": {},
   "source": [
    "### BONUS!\n",
    "\n",
    "#### SVC with average word vectors"
   ]
  },
  {
   "cell_type": "code",
   "execution_count": 10,
   "metadata": {
    "collapsed": true
   },
   "outputs": [],
   "source": [
    "# 5 - Try to improve performance with another classifier\n",
    "#     Attach the output file \"XXX_bov_y_test_sst.txt\" to your deliverable (where XXX = the name of the classifier)\n",
    "\n",
    "from sklearn.svm import SVC"
   ]
  },
  {
   "cell_type": "code",
   "execution_count": 26,
   "metadata": {
    "collapsed": false
   },
   "outputs": [
    {
     "name": "stdout",
     "output_type": "stream",
     "text": [
      "Score with C =0.1 train set  0.4396067415730337\n",
      "Score with C =0.1 dev set 0.4032697547683924\n",
      "Score with C =0.5 train set  0.48396535580524347\n",
      "Score with C =0.5 dev set 0.4268846503178928\n",
      "Score with C =1 train set  0.4987125468164794\n",
      "Score with C =1 dev set 0.444141689373297\n",
      "Score with C =2 train set  0.5115870786516854\n",
      "Score with C =2 dev set 0.4514078110808356\n",
      "Score with C =5 train set  0.5210674157303371\n",
      "Score with C =5 dev set 0.44323342415985467\n",
      "Score with C =10 train set  0.5235252808988764\n",
      "Score with C =10 dev set 0.4396003633060854\n"
     ]
    }
   ],
   "source": [
    "#Warning: this is quite slow to compute\n",
    "for C in [0.1,0.5,1,2,5,10]:\n",
    "    model = SVC(kernel='linear', C=C)\n",
    "    model.fit(X_train, y_train)\n",
    "    print (\"Score with C ={} train set \".format(C), model.score(X_train,y_train))\n",
    "    print (\"Score with C ={} dev set\".format(C), model.score(X_dev,y_dev))\n",
    "# TYPE CODE HERE"
   ]
  },
  {
   "cell_type": "code",
   "execution_count": null,
   "metadata": {
    "collapsed": false
   },
   "outputs": [
    {
     "name": "stdout",
     "output_type": "stream",
     "text": [
      "Score with C =1.5 train set  0.5094803370786517\n",
      "Score with C =1.5 dev set 0.45049954586739327\n",
      "Score with C =2 train set  0.5115870786516854\n",
      "Score with C =2 dev set 0.4514078110808356\n",
      "Score with C =2.5 train set  0.5143960674157303\n",
      "Score with C =2.5 dev set 0.44686648501362397\n",
      "Score with C =3 train set  0.5172050561797753\n",
      "Score with C =3 dev set 0.44595821980018163\n"
     ]
    }
   ],
   "source": [
    "for C in [1.5, 2, 2.5, 3]:\n",
    "    model = SVC(kernel='linear', C=C)\n",
    "    model.fit(X_train, y_train)\n",
    "    print (\"Score with C ={} train set \".format(C), model.score(X_train,y_train))\n",
    "    print (\"Score with C ={} dev set\".format(C), model.score(X_dev,y_dev))"
   ]
  },
  {
   "cell_type": "code",
   "execution_count": 11,
   "metadata": {
    "collapsed": true
   },
   "outputs": [],
   "source": [
    "clf_svc = SVC(kernel='linear', C=2)\n",
    "clf_svc.fit(np.concatenate([X_train, X_dev]),np.concatenate([y_train,y_dev]))\n",
    "y_pred = clf_svc.predict(X_test)\n",
    "with open(\"SVC_bov_y_test_sst.txt\", \"w\") as f:\n",
    "    for label in y_pred:\n",
    "        f.write(label.astype('str')+'\\n')"
   ]
  },
  {
   "cell_type": "markdown",
   "metadata": {},
   "source": [
    "#### SVC with weighted-average"
   ]
  },
  {
   "cell_type": "code",
   "execution_count": null,
   "metadata": {
    "collapsed": false
   },
   "outputs": [
    {
     "name": "stdout",
     "output_type": "stream",
     "text": [
      "Score with C =0.1 train set  0.521184456928839\n",
      "Score with C =0.1 dev set 0.4187102633969119\n",
      "Score with C =0.5 train set  0.5216526217228464\n",
      "Score with C =0.5 dev set 0.4123524069028156\n",
      "Score with C =1 train set  0.5214185393258427\n",
      "Score with C =1 dev set 0.4123524069028156\n",
      "Score with C =2 train set  0.5225889513108615\n",
      "Score with C =2 dev set 0.4123524069028156\n"
     ]
    }
   ],
   "source": [
    "for C in [0.1,0.5,1,2]:\n",
    "    model = SVC(kernel='linear', C=C)\n",
    "    model.fit(X_train2, y_train)\n",
    "    print (\"Score with C ={} train set \".format(C), model.score(X_train2,y_train))\n",
    "    print (\"Score with C ={} dev set\".format(C), model.score(X_dev2,y_dev))"
   ]
  },
  {
   "cell_type": "markdown",
   "metadata": {},
   "source": [
    "The best results are obtained using SVC with average of vectors."
   ]
  },
  {
   "cell_type": "markdown",
   "metadata": {},
   "source": [
    "### Test with AdaBoost\n",
    "\n",
    "This was not at all convincing..."
   ]
  },
  {
   "cell_type": "code",
   "execution_count": 17,
   "metadata": {
    "collapsed": false
   },
   "outputs": [
    {
     "name": "stdout",
     "output_type": "stream",
     "text": [
      "Score with C =50  0.37329700272479566\n",
      "Score with C =20  0.3533151680290645\n"
     ]
    }
   ],
   "source": [
    "from sklearn.ensemble import AdaBoostClassifier\n",
    "\n",
    "for M in [50,20]:\n",
    "    model = AdaBoostClassifier(n_estimators=M)\n",
    "    model.fit(X_train, y_train)\n",
    "    print (\"Score with C ={} \".format(M), model.score(X_train,y_train))\n",
    "    print (\"Score with C ={} \".format(M), model.score(X_dev,y_dev))"
   ]
  },
  {
   "cell_type": "markdown",
   "metadata": {},
   "source": [
    "# 4) Sentence classification with LSTMs in Keras"
   ]
  },
  {
   "cell_type": "markdown",
   "metadata": {},
   "source": [
    "## 4.1 - Preprocessing"
   ]
  },
  {
   "cell_type": "code",
   "execution_count": 5,
   "metadata": {
    "collapsed": false
   },
   "outputs": [
    {
     "name": "stderr",
     "output_type": "stream",
     "text": [
      "C:\\Users\\Melisande\\Anaconda3\\lib\\site-packages\\h5py\\__init__.py:36: FutureWarning: Conversion of the second argument of issubdtype from `float` to `np.floating` is deprecated. In future, it will be treated as `np.float64 == np.dtype(float).type`.\n",
      "  from ._conv import register_converters as _register_converters\n",
      "Using TensorFlow backend.\n"
     ]
    }
   ],
   "source": [
    "import keras"
   ]
  },
  {
   "cell_type": "code",
   "execution_count": 6,
   "metadata": {
    "collapsed": false
   },
   "outputs": [],
   "source": [
    "# 1 - Load train/dev/test sets of SST\n",
    "PATH_TO_DATA = \"data/\"\n",
    "\n",
    "# TYPE CODE HERE\n",
    "SST_train = []\n",
    "y_train = []\n",
    "with io.open(os.path.join(PATH_TO_DATA, 'SST/stsa.fine.train'),encoding='utf-8') as f:\n",
    "    for line in f:\n",
    "        SST_train.append(line[1:])\n",
    "        y_train.append(line[0])\n",
    "y_train = np.array(y_train, dtype=int)\n",
    "SST_test = []\n",
    "with io.open(os.path.join(PATH_TO_DATA, 'SST/stsa.fine.test'),encoding='utf-8') as f:\n",
    "    for line in f:\n",
    "        SST_test.append(line)\n",
    "SST_dev = []\n",
    "y_dev = []\n",
    "with io.open(os.path.join(PATH_TO_DATA, 'SST/stsa.fine.dev'),encoding='utf-8') as f:\n",
    "    for line in f:\n",
    "        SST_dev.append(line[1:])\n",
    "        y_dev.append(line[0])\n",
    "y_dev = np.array(y_dev, dtype=int)\n"
   ]
  },
  {
   "cell_type": "code",
   "execution_count": 7,
   "metadata": {
    "collapsed": false
   },
   "outputs": [],
   "source": [
    "# 2 - Transform text to integers using keras.preprocessing.text.one_hot function\n",
    "#     https://keras.io/preprocessing/text/\n",
    "from keras.preprocessing.text import one_hot\n",
    "\n",
    "from keras.utils import to_categorical\n",
    "def to_onehot(sentence):\n",
    "    return (one_hot(sentence,100000,filters='!\"#$%&()*+,-./:;<=>?@[\\\\]^_`{|}~\\t\\n',lower=True,split=\" \"))\n",
    "X_train = [to_onehot(sentence) for sentence in SST_train]\n",
    "X_test = [to_onehot(sentence) for sentence in SST_test]\n",
    "X_dev = [to_onehot(sentence) for sentence in SST_dev]\n"
   ]
  },
  {
   "cell_type": "code",
   "execution_count": 8,
   "metadata": {
    "collapsed": true
   },
   "outputs": [],
   "source": [
    "\n",
    "y_train = to_categorical(y_train)\n",
    "y_dev = to_categorical(y_dev)"
   ]
  },
  {
   "cell_type": "markdown",
   "metadata": {},
   "source": [
    "**Padding input data**\n",
    "\n",
    "Models in Keras (and elsewhere) take batches of sentences of the same length as input. It is because Deep Learning framework have been designed to handle well Tensors, which are particularly suited for fast computation on the GPU.\n",
    "\n",
    "Since sentences have different sizes, we \"pad\" them. That is, we add dummy \"padding\" tokens so that they all have the same length.\n",
    "\n",
    "The input to a Keras model thus has this size : (batchsize, maxseqlen) where maxseqlen is the maximum length of a sentence in the batch."
   ]
  },
  {
   "cell_type": "code",
   "execution_count": 9,
   "metadata": {
    "collapsed": false
   },
   "outputs": [],
   "source": [
    "# 3 - Pad your sequences using keras.preprocessing.sequence.pad_sequences\n",
    "#     https://keras.io/preprocessing/sequence/\n",
    "\n",
    "# TYPE CODE HERE\n",
    "from keras.preprocessing.sequence import pad_sequences\n",
    "\n",
    "maxseqlen = np.max([len(x) for x in X_train+X_test+X_dev])\n",
    "X_train = pad_sequences(X_train, maxlen=maxseqlen, padding='pre')\n",
    "X_test  = pad_sequences(X_test, maxlen=maxseqlen, padding='pre')\n",
    "X_dev = pad_sequences(X_dev, maxlen=maxseqlen, padding='pre')\n"
   ]
  },
  {
   "cell_type": "markdown",
   "metadata": {},
   "source": [
    "## 4.2 - Design and train your model"
   ]
  },
  {
   "cell_type": "code",
   "execution_count": 10,
   "metadata": {
    "collapsed": false
   },
   "outputs": [
    {
     "name": "stderr",
     "output_type": "stream",
     "text": [
      "C:\\Users\\Melisande\\Anaconda3\\lib\\site-packages\\ipykernel\\__main__.py:22: UserWarning: Update your `LSTM` call to the Keras 2 API: `LSTM(128, dropout=0.5)`\n"
     ]
    }
   ],
   "source": [
    "# 4 - Design your encoder + classifier using keras.layers\n",
    "#     In Keras, Torch and other deep learning framework, we create a \"container\" which is the Sequential() module.\n",
    "#     Then we add components to this contained : the lookuptable, the LSTM, the classifier etc.\n",
    "#     All of these components are contained in the Sequential() and are trained together.\n",
    "\n",
    "\n",
    "# ADAPT CODE BELOW\n",
    "\n",
    "from keras.models import Model, Sequential\n",
    "from keras.layers import Input, Dropout, Embedding, LSTM, Dense\n",
    "\n",
    "\n",
    "embed_dim  = 64  # word embedding dimension\n",
    "nhid       = 128 # number of hidden units in the LSTM\n",
    "nhid_dense = 64 # number of hidden units in the dense layers\n",
    "vocab_size = 100000#len(encoder.word_index)+1  # size of the vocabulary\n",
    "dropout_rate = 0.5\n",
    "n_classes  = 5\n",
    "\n",
    "model = Sequential()\n",
    "model.add(Embedding(vocab_size, embed_dim))\n",
    "model.add(LSTM(nhid, dropout_W=dropout_rate))#, dropout_U=0.5))\n",
    "model.add(Dense(nhid_dense,activation='relu'))\n",
    "model.add(Dropout(0.5))\n",
    "model.add(Dense(n_classes, activation='softmax'))\n",
    "\n"
   ]
  },
  {
   "cell_type": "code",
   "execution_count": 11,
   "metadata": {
    "collapsed": false
   },
   "outputs": [
    {
     "name": "stdout",
     "output_type": "stream",
     "text": [
      "_________________________________________________________________\n",
      "Layer (type)                 Output Shape              Param #   \n",
      "=================================================================\n",
      "embedding_1 (Embedding)      (None, None, 64)          6400000   \n",
      "_________________________________________________________________\n",
      "lstm_1 (LSTM)                (None, 128)               98816     \n",
      "_________________________________________________________________\n",
      "dense_1 (Dense)              (None, 64)                8256      \n",
      "_________________________________________________________________\n",
      "dropout_1 (Dropout)          (None, 64)                0         \n",
      "_________________________________________________________________\n",
      "dense_2 (Dense)              (None, 5)                 325       \n",
      "=================================================================\n",
      "Total params: 6,507,397\n",
      "Trainable params: 6,507,397\n",
      "Non-trainable params: 0\n",
      "_________________________________________________________________\n",
      "None\n"
     ]
    }
   ],
   "source": [
    "# 5 - Define your loss/optimizer/metrics\n",
    "\n",
    "# MODIFY CODE BELOW\n",
    "\n",
    "loss_classif     =  'categorical_crossentropy' # find the right loss for multi-class classification\n",
    "optimizer        =  'adam' # find the right optimizer\n",
    "metrics_classif  =  ['accuracy']\n",
    "\n",
    "# Observe how easy (but blackboxed) this is in Keras\n",
    "model.compile(loss=loss_classif,\n",
    "              optimizer=optimizer,\n",
    "              metrics=metrics_classif)\n",
    "print(model.summary())"
   ]
  },
  {
   "cell_type": "code",
   "execution_count": 12,
   "metadata": {
    "collapsed": false
   },
   "outputs": [
    {
     "name": "stderr",
     "output_type": "stream",
     "text": [
      "C:\\Users\\Melisande\\Anaconda3\\lib\\site-packages\\keras\\models.py:939: UserWarning: The `nb_epoch` argument in `fit` has been renamed `epochs`.\n",
      "  warnings.warn('The `nb_epoch` argument in `fit` '\n"
     ]
    },
    {
     "name": "stdout",
     "output_type": "stream",
     "text": [
      "Train on 8544 samples, validate on 1101 samples\n",
      "Epoch 1/10\n",
      "8544/8544 [==============================] - 38s 4ms/step - loss: 1.5741 - acc: 0.2657 - val_loss: 1.5596 - val_acc: 0.3161\n",
      "Epoch 2/10\n",
      "8544/8544 [==============================] - 36s 4ms/step - loss: 1.4603 - acc: 0.3526 - val_loss: 1.3940 - val_acc: 0.3778\n",
      "Epoch 3/10\n",
      "8544/8544 [==============================] - 41s 5ms/step - loss: 1.1624 - acc: 0.5082 - val_loss: 1.4112 - val_acc: 0.3669\n",
      "Epoch 4/10\n",
      "8544/8544 [==============================] - 48s 6ms/step - loss: 0.9221 - acc: 0.6197 - val_loss: 1.5974 - val_acc: 0.3560\n",
      "Epoch 5/10\n",
      "8544/8544 [==============================] - 48s 6ms/step - loss: 0.7204 - acc: 0.7254 - val_loss: 1.7011 - val_acc: 0.3669\n",
      "Epoch 6/10\n",
      "8544/8544 [==============================] - 48s 6ms/step - loss: 0.5553 - acc: 0.7980 - val_loss: 1.8974 - val_acc: 0.3524\n",
      "Epoch 7/10\n",
      "8544/8544 [==============================] - 48s 6ms/step - loss: 0.4463 - acc: 0.8464 - val_loss: 2.2164 - val_acc: 0.3742\n",
      "Epoch 8/10\n",
      "8544/8544 [==============================] - 48s 6ms/step - loss: 0.3539 - acc: 0.8794 - val_loss: 2.5013 - val_acc: 0.3706\n",
      "Epoch 9/10\n",
      "8544/8544 [==============================] - 44s 5ms/step - loss: 0.2716 - acc: 0.9119 - val_loss: 2.5732 - val_acc: 0.3724\n",
      "Epoch 10/10\n",
      "8544/8544 [==============================] - 42s 5ms/step - loss: 0.2383 - acc: 0.9233 - val_loss: 2.7933 - val_acc: 0.3460\n"
     ]
    }
   ],
   "source": [
    "# 6 - Train your model and find the best hyperparameters for your dev set\n",
    "#     you will be evaluated on the quality of your predictions on the test set\n",
    "\n",
    "# ADAPT CODE BELOW\n",
    "bs = 64\n",
    "n_epochs = 10\n",
    "\n",
    "history = model.fit(X_train, y_train, batch_size=bs, nb_epoch=n_epochs, validation_data=(X_dev, y_dev))"
   ]
  },
  {
   "cell_type": "code",
   "execution_count": 13,
   "metadata": {
    "collapsed": false
   },
   "outputs": [
    {
     "data": {
      "image/png": "[encoded data removed]",
      "text/plain": [
       "<matplotlib.figure.Figure at 0x19865941978>"
      ]
     },
     "metadata": {},
     "output_type": "display_data"
    }
   ],
   "source": [
    "\n",
    "plt.plot(history.history['acc'])\n",
    "plt.plot(history.history['val_acc'])\n",
    "plt.title('LSTM model accuracy')\n",
    "plt.ylabel('accuracy')\n",
    "plt.xlabel('epoch')\n",
    "plt.legend(['train', 'test'], loc='upper left')\n",
    "plt.show()\n"
   ]
  },
  {
   "cell_type": "code",
   "execution_count": 14,
   "metadata": {
    "collapsed": false
   },
   "outputs": [
    {
     "data": {
      "image/png": "[encoded data removed]",
      "text/plain": [
       "<matplotlib.figure.Figure at 0x19865941f98>"
      ]
     },
     "metadata": {},
     "output_type": "display_data"
    }
   ],
   "source": [
    "# summarize history for loss\n",
    "plt.plot(history.history['loss'])\n",
    "plt.plot(history.history['val_loss'])\n",
    "plt.title('LSTM model loss')\n",
    "plt.ylabel('loss')\n",
    "plt.xlabel('epoch')\n",
    "plt.legend(['train', 'test'], loc='upper left')\n",
    "plt.show()"
   ]
  },
  {
   "cell_type": "code",
   "execution_count": 74,
   "metadata": {
    "collapsed": false
   },
   "outputs": [
    {
     "name": "stderr",
     "output_type": "stream",
     "text": [
      "C:\\Users\\Melisande\\Anaconda3\\lib\\site-packages\\keras\\models.py:939: UserWarning: The `nb_epoch` argument in `fit` has been renamed `epochs`.\n",
      "  warnings.warn('The `nb_epoch` argument in `fit` '\n"
     ]
    },
    {
     "name": "stdout",
     "output_type": "stream",
     "text": [
      "Epoch 1/3\n",
      "9645/9645 [==============================] - 48s 5ms/step - loss: 1.5688 - acc: 0.2781\n",
      "Epoch 2/3\n",
      "9645/9645 [==============================] - 40s 4ms/step - loss: 1.4025 - acc: 0.3980\n",
      "Epoch 3/3\n",
      "9645/9645 [==============================] - 41s 4ms/step - loss: 1.1138 - acc: 0.5369\n"
     ]
    }
   ],
   "source": [
    "# 7 - Generate your predictions on the test set using model.predict(x_test)\n",
    "#     https://keras.io/models/model/\n",
    "#     Log your predictions in a file (one line = one integer: 0,1,2,3,4)\n",
    "#     Attach the output file \"logreg_lstm_y_test_sst.txt\" to your deliverable.\n",
    "\n",
    "# # This was generated re-running the model cell (because here we fit on 3 epochs only, \n",
    "#before we used 10 epochs only to plot the evolution of loss and accuracy on train et dev set\n",
    "\n",
    "model.fit(np.concatenate([X_train, X_dev]),np.concatenate([y_train,y_dev]), batch_size=bs, nb_epoch= 3)\n",
    "y_pred = model.predict(X_test)\n",
    "with open(\"logreg_LSTM_y_test_sst.txt\", \"w\") as f:\n",
    "    for label in y_pred:\n",
    "        f.write((np.argmax(label)).astype('str')+'\\n')\n",
    "\n"
   ]
  },
  {
   "cell_type": "markdown",
   "metadata": {},
   "source": [
    "## 4.3 -- innovate !"
   ]
  },
  {
   "cell_type": "code",
   "execution_count": 15,
   "metadata": {
    "collapsed": true
   },
   "outputs": [],
   "source": [
    "from keras.utils import to_categorical\n",
    "from keras.models import Model, Sequential\n",
    "from keras.layers import Input, Dropout, Embedding, LSTM, Dense\n",
    "from keras.preprocessing.text import Tokenizer"
   ]
  },
  {
   "cell_type": "code",
   "execution_count": 19,
   "metadata": {
    "collapsed": false
   },
   "outputs": [],
   "source": [
    "# 8 - Open question: find a model that is better on your dev set\n",
    "#     (e.g: use a 1D ConvNet, use a better classifier, pretrain your lookup tables ..)\n",
    "#     you will get point if the results on the test set are better: be careful of not overfitting your dev set too much..\n",
    "#     Attach the output file \"XXX_XXX_y_test_sst.txt\" to your deliverable.\n",
    "\n",
    "# TYPE CODE HERE\n",
    "\n",
    "# 2 - Transform text to integers using keras.preprocessing.text.one_hot function\n",
    "#     https://keras.io/preprocessing/text/\n",
    "\n",
    "encoder = Tokenizer()\n",
    "encoder.fit_on_texts(SST_train)\n",
    "\n",
    "X_train = encoder.texts_to_sequences(SST_train)\n",
    "X_test = encoder.texts_to_sequences(SST_test)\n",
    "X_dev = encoder.texts_to_sequences(SST_dev)\n",
    "\n"
   ]
  },
  {
   "cell_type": "code",
   "execution_count": 20,
   "metadata": {
    "collapsed": false
   },
   "outputs": [],
   "source": [
    "#padding input data\n",
    "from keras.preprocessing.sequence import pad_sequences\n",
    "maxseqlen = np.max([len(x) for x in X_train+X_test+X_dev])\n",
    "X_train = pad_sequences(X_train, maxlen=maxseqlen, padding='pre')\n",
    "X_test  = pad_sequences(X_test, maxlen=maxseqlen, padding='pre')\n",
    "X_dev = pad_sequences(X_dev, maxlen=maxseqlen, padding='pre')"
   ]
  },
  {
   "cell_type": "code",
   "execution_count": 31,
   "metadata": {
    "collapsed": false
   },
   "outputs": [
    {
     "name": "stderr",
     "output_type": "stream",
     "text": [
      "C:\\Users\\Melisande\\Anaconda3\\lib\\site-packages\\ipykernel\\__main__.py:12: UserWarning: Update your `LSTM` call to the Keras 2 API: `LSTM(128, dropout=0.5)`\n"
     ]
    },
    {
     "name": "stdout",
     "output_type": "stream",
     "text": [
      "_________________________________________________________________\n",
      "Layer (type)                 Output Shape              Param #   \n",
      "=================================================================\n",
      "embedding_7 (Embedding)      (None, None, 64)          6400000   \n",
      "_________________________________________________________________\n",
      "bidirectional_6 (Bidirection (None, 256)               197632    \n",
      "_________________________________________________________________\n",
      "dense_11 (Dense)             (None, 5)                 1285      \n",
      "=================================================================\n",
      "Total params: 6,598,917\n",
      "Trainable params: 6,598,917\n",
      "Non-trainable params: 0\n",
      "_________________________________________________________________\n",
      "None\n"
     ]
    }
   ],
   "source": [
    "\n",
    "embed_dim  = 64  # word embedding dimension\n",
    "nhid       = 128 # number of hidden units in the LSTM\n",
    "nhid_dense = 64 # number of hidden units in the dense layers\n",
    "vocab_size = 100000#len(encoder.word_index)+1  # size of the vocabulary\n",
    "dropout_rate = 0.5\n",
    "n_classes  = 5\n",
    "\n",
    "\n",
    "model2 = Sequential()\n",
    "model2.add(Embedding(vocab_size, embed_dim))\n",
    "model2.add(Bidirectional(LSTM(nhid, dropout_W=dropout_rate)))#, dropout_U=0.2)))\n",
    "#model2.add(Dense(64, activation='relu'))\n",
    "#model2.add(Dropout(0.5))\n",
    "model2.add(Dense(n_classes, activation='softmax'))\n",
    "\n",
    "loss_classif     =  'categorical_crossentropy' # find the right loss for multi-class classification\n",
    "optimizer        =  'adam' # find the right optimizer\n",
    "metrics_classif  =  ['accuracy']\n",
    "\n",
    "# Observe how easy (but blackboxed) this is in Keras\n",
    "model2.compile(loss=loss_classif,\n",
    "              optimizer=optimizer,\n",
    "              metrics=metrics_classif)\n",
    "print(model2.summary())\n"
   ]
  },
  {
   "cell_type": "code",
   "execution_count": 25,
   "metadata": {
    "collapsed": false
   },
   "outputs": [
    {
     "name": "stderr",
     "output_type": "stream",
     "text": [
      "C:\\Users\\Melisande\\Anaconda3\\lib\\site-packages\\keras\\models.py:939: UserWarning: The `nb_epoch` argument in `fit` has been renamed `epochs`.\n",
      "  warnings.warn('The `nb_epoch` argument in `fit` '\n"
     ]
    },
    {
     "name": "stdout",
     "output_type": "stream",
     "text": [
      "Train on 8544 samples, validate on 1101 samples\n",
      "Epoch 1/10\n",
      "8544/8544 [==============================] - 60s 7ms/step - loss: 1.5593 - acc: 0.2851 - val_loss: 1.5060 - val_acc: 0.3479\n",
      "Epoch 2/10\n",
      "8544/8544 [==============================] - 64s 7ms/step - loss: 1.3530 - acc: 0.4151 - val_loss: 1.3713 - val_acc: 0.3869\n",
      "Epoch 3/10\n",
      "8544/8544 [==============================] - 62s 7ms/step - loss: 1.1017 - acc: 0.5232 - val_loss: 1.3790 - val_acc: 0.3933\n",
      "Epoch 4/10\n",
      "8544/8544 [==============================] - 59s 7ms/step - loss: 0.8682 - acc: 0.6482 - val_loss: 1.6524 - val_acc: 0.3942\n",
      "Epoch 5/10\n",
      "8544/8544 [==============================] - 59s 7ms/step - loss: 0.6380 - acc: 0.7589 - val_loss: 1.6881 - val_acc: 0.3669\n",
      "Epoch 6/10\n",
      "8544/8544 [==============================] - 59s 7ms/step - loss: 0.4761 - acc: 0.8256 - val_loss: 2.0423 - val_acc: 0.3660\n",
      "Epoch 7/10\n",
      "8544/8544 [==============================] - 58s 7ms/step - loss: 0.3629 - acc: 0.8699 - val_loss: 2.2331 - val_acc: 0.3579\n",
      "Epoch 8/10\n",
      "8544/8544 [==============================] - 60s 7ms/step - loss: 0.2811 - acc: 0.9039 - val_loss: 2.3471 - val_acc: 0.3479\n",
      "Epoch 9/10\n",
      "8544/8544 [==============================] - 61s 7ms/step - loss: 0.2449 - acc: 0.9157 - val_loss: 2.5471 - val_acc: 0.3533\n",
      "Epoch 10/10\n",
      "8544/8544 [==============================] - 60s 7ms/step - loss: 0.1994 - acc: 0.9316 - val_loss: 2.6204 - val_acc: 0.3751\n"
     ]
    }
   ],
   "source": [
    "bs = 64\n",
    "n_epochs = 10\n",
    "history = model2.fit(X_train, y_train, batch_size=bs, nb_epoch=n_epochs, validation_data=(X_dev, y_dev))"
   ]
  },
  {
   "cell_type": "code",
   "execution_count": 28,
   "metadata": {
    "collapsed": false
   },
   "outputs": [
    {
     "data": {
      "image/png": "[encoded data removed]",
      "text/plain": [
       "<matplotlib.figure.Figure at 0x1982748e390>"
      ]
     },
     "metadata": {},
     "output_type": "display_data"
    }
   ],
   "source": [
    "plt.plot(history.history['acc'])\n",
    "plt.plot(history.history['val_acc'])\n",
    "plt.title('Bidirectional LSTM model accuracy')\n",
    "plt.ylabel('accuracy')\n",
    "plt.xlabel('epoch')\n",
    "plt.legend(['train', 'dev'], loc='upper left')\n",
    "plt.show()"
   ]
  },
  {
   "cell_type": "code",
   "execution_count": 29,
   "metadata": {
    "collapsed": false
   },
   "outputs": [
    {
     "data": {
      "image/png": "[encoded data removed]",
      "text/plain": [
       "<matplotlib.figure.Figure at 0x198274711d0>"
      ]
     },
     "metadata": {},
     "output_type": "display_data"
    }
   ],
   "source": [
    "# summarize history for loss\n",
    "plt.plot(history.history['loss'])\n",
    "plt.plot(history.history['val_loss'])\n",
    "plt.title('Bidirectional LSTM model loss')\n",
    "plt.ylabel('loss')\n",
    "plt.xlabel('epoch')\n",
    "plt.legend(['train', 'dev'], loc='upper left')\n",
    "plt.show()"
   ]
  },
  {
   "cell_type": "code",
   "execution_count": 32,
   "metadata": {
    "collapsed": false
   },
   "outputs": [
    {
     "name": "stderr",
     "output_type": "stream",
     "text": [
      "C:\\Users\\Melisande\\Anaconda3\\lib\\site-packages\\keras\\models.py:939: UserWarning: The `nb_epoch` argument in `fit` has been renamed `epochs`.\n",
      "  warnings.warn('The `nb_epoch` argument in `fit` '\n"
     ]
    },
    {
     "name": "stdout",
     "output_type": "stream",
     "text": [
      "Epoch 1/4\n",
      "9645/9645 [==============================] - 62s 6ms/step - loss: 1.5557 - acc: 0.2911\n",
      "Epoch 2/4\n",
      "9645/9645 [==============================] - 57s 6ms/step - loss: 1.3381 - acc: 0.4202\n",
      "Epoch 3/4\n",
      "9645/9645 [==============================] - 57s 6ms/step - loss: 1.0883 - acc: 0.5370\n",
      "Epoch 4/4\n",
      "9645/9645 [==============================] - 58s 6ms/step - loss: 0.8468 - acc: 0.6600\n"
     ]
    }
   ],
   "source": [
    "# This was generated re-running the model cell before (because here we fit on 4 epochs only, \n",
    "#before we used 10 epochs only to plot the evolution of loss and accuracy on train et dev set)\n",
    "model2.fit(np.concatenate([X_train, X_dev]),np.concatenate([y_train,y_dev]), batch_size=bs, nb_epoch= 4)\n",
    "y_pred = model2.predict(X_test)\n",
    "with open(\"bidirectional_LSTM_y_test_sst.txt\", \"w\") as f:\n",
    "    for label in y_pred:\n",
    "        f.write((np.argmax(label)).astype('str')+'\\n')\n"
   ]
  },
  {
   "cell_type": "code",
   "execution_count": null,
   "metadata": {
    "collapsed": true
   },
   "outputs": [],
   "source": []
  }
 ],
 "metadata": {
  "kernelspec": {
   "display_name": "Python 3",
   "language": "python",
   "name": "python3"
  },
  "language_info": {
   "codemirror_mode": {
    "name": "ipython",
    "version": 3
   },
   "file_extension": ".py",
   "mimetype": "text/x-python",
   "name": "python",
   "nbconvert_exporter": "python",
   "pygments_lexer": "ipython3",
   "version": "3.5.4"
  }
 },
 "nbformat": 4,
 "nbformat_minor": 1
}
